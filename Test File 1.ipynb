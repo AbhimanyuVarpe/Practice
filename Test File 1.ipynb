{
 "cells": [
  {
   "cell_type": "code",
   "execution_count": 1,
   "metadata": {
    "scrolled": true
   },
   "outputs": [
    {
     "name": "stdout",
     "output_type": "stream",
     "text": [
      "enter your name:Abhimanyu\n",
      "welcome Abhimanyu\n"
     ]
    }
   ],
   "source": [
    "name = input(\"enter your name:\")\n",
    "print (\"welcome\", name)"
   ]
  },
  {
   "cell_type": "code",
   "execution_count": 2,
   "metadata": {},
   "outputs": [
    {
     "name": "stdout",
     "output_type": "stream",
     "text": [
      "enter your name:Abhimanyu\n",
      "enter your age:25\n",
      "hello, Abhimanyu you are 25 years old.\n"
     ]
    }
   ],
   "source": [
    "name = input(\"enter your name:\")\n",
    "age = input(\"enter your age:\")\n",
    "print(\"hello,\" , name , \"you are\", age , \"years old.\")"
   ]
  },
  {
   "cell_type": "code",
   "execution_count": 3,
   "metadata": {},
   "outputs": [
    {
     "name": "stdout",
     "output_type": "stream",
     "text": [
      "Hello, my name is Abhimanyu and i am 25 years old\n"
     ]
    }
   ],
   "source": [
    "name = \"Abhimanyu\"\n",
    "age = \"25\"\n",
    "print(f\"\"\"Hello, my name is {name} and i am {age} years old\"\"\")"
   ]
  },
  {
   "cell_type": "code",
   "execution_count": 4,
   "metadata": {},
   "outputs": [
    {
     "name": "stdout",
     "output_type": "stream",
     "text": [
      "enter your name:Abhimanyu\n",
      "enter your age25\n",
      "welcome Abhimanyu you are very enthusiastic person and you are 25 years old.\n"
     ]
    }
   ],
   "source": [
    "name= input(\"enter your name:\")\n",
    "age= input(\"enter your age\")\n",
    "print (\"welcome\",name,\"you are very enthusiastic person and you are\",age , \"years old.\")"
   ]
  },
  {
   "cell_type": "code",
   "execution_count": 6,
   "metadata": {},
   "outputs": [
    {
     "name": "stdout",
     "output_type": "stream",
     "text": [
      "True\n",
      "1.0\n",
      "1\n",
      "1\n"
     ]
    }
   ],
   "source": [
    "a=1\n",
    "print(bool(a))\n",
    "print(float(a))\n",
    "print(int(a))\n",
    "print(str(a))"
   ]
  },
  {
   "cell_type": "code",
   "execution_count": 8,
   "metadata": {},
   "outputs": [
    {
     "name": "stdout",
     "output_type": "stream",
     "text": [
      "2 2.35 True 2.35\n"
     ]
    },
    {
     "data": {
      "text/plain": [
       "'2.35'"
      ]
     },
     "execution_count": 8,
     "metadata": {},
     "output_type": "execute_result"
    }
   ],
   "source": [
    "a=2.35\n",
    "print(int(a),\n",
    "float(a),\n",
    "bool(a),\n",
    "str(a),)\n",
    "str(a)"
   ]
  },
  {
   "cell_type": "code",
   "execution_count": 9,
   "metadata": {},
   "outputs": [
    {
     "name": "stdout",
     "output_type": "stream",
     "text": [
      "3.0\n"
     ]
    }
   ],
   "source": [
    "a=3.56\n",
    "print(float(int(a)))"
   ]
  },
  {
   "cell_type": "code",
   "execution_count": 10,
   "metadata": {},
   "outputs": [
    {
     "name": "stdout",
     "output_type": "stream",
     "text": [
      "addition= 25 Subtaction= 21 multiplication= 46 division= 11.5\n",
      "floor division= 11 reminder or modulus = 1 exponential= 529\n"
     ]
    }
   ],
   "source": [
    "#arithmatical operations\n",
    "a=23\n",
    "b=2\n",
    "print(\"addition=\",a+b, \"Subtaction=\" , a-b, \"multiplication=\",a*b, \"division=\",a/b)\n",
    "print(\"floor division=\",a//b, \"reminder or modulus =\",a%b,\"exponential=\",a**b)"
   ]
  },
  {
   "cell_type": "code",
   "execution_count": 12,
   "metadata": {},
   "outputs": [
    {
     "name": "stdout",
     "output_type": "stream",
     "text": [
      "12 A D H\n",
      "ABCD\n",
      "ACEGIK\n"
     ]
    }
   ],
   "source": [
    "name=\"ABCDEFGHIJKL\"\n",
    "print(len(name), name[0], name[3], name[-5])\n",
    "print(name[0:4])\n",
    "print(name[::2])"
   ]
  },
  {
   "cell_type": "code",
   "execution_count": 13,
   "metadata": {},
   "outputs": [
    {
     "data": {
      "text/plain": [
       "1.0"
      ]
     },
     "execution_count": 13,
     "metadata": {},
     "output_type": "execute_result"
    }
   ],
   "source": [
    "float(\"1\")"
   ]
  },
  {
   "cell_type": "code",
   "execution_count": 14,
   "metadata": {},
   "outputs": [
    {
     "data": {
      "text/plain": [
       "1"
      ]
     },
     "execution_count": 14,
     "metadata": {},
     "output_type": "execute_result"
    }
   ],
   "source": [
    "int(True)"
   ]
  },
  {
   "cell_type": "code",
   "execution_count": 15,
   "metadata": {},
   "outputs": [
    {
     "data": {
      "text/plain": [
       "0.0"
      ]
     },
     "execution_count": 15,
     "metadata": {},
     "output_type": "execute_result"
    }
   ],
   "source": [
    "float(False)"
   ]
  },
  {
   "cell_type": "code",
   "execution_count": 16,
   "metadata": {},
   "outputs": [
    {
     "data": {
      "text/plain": [
       "True"
      ]
     },
     "execution_count": 16,
     "metadata": {},
     "output_type": "execute_result"
    }
   ],
   "source": [
    "bool(1)"
   ]
  },
  {
   "cell_type": "code",
   "execution_count": 17,
   "metadata": {},
   "outputs": [
    {
     "data": {
      "text/plain": [
       "False"
      ]
     },
     "execution_count": 17,
     "metadata": {},
     "output_type": "execute_result"
    }
   ],
   "source": [
    "bool(0)"
   ]
  },
  {
   "cell_type": "code",
   "execution_count": 18,
   "metadata": {},
   "outputs": [
    {
     "data": {
      "text/plain": [
       "True"
      ]
     },
     "execution_count": 18,
     "metadata": {},
     "output_type": "execute_result"
    }
   ],
   "source": [
    "bool(2)"
   ]
  },
  {
   "cell_type": "code",
   "execution_count": 19,
   "metadata": {},
   "outputs": [
    {
     "data": {
      "text/plain": [
       "'132'"
      ]
     },
     "execution_count": 19,
     "metadata": {},
     "output_type": "execute_result"
    }
   ],
   "source": [
    "str(132)"
   ]
  },
  {
   "cell_type": "code",
   "execution_count": 20,
   "metadata": {},
   "outputs": [
    {
     "name": "stdout",
     "output_type": "stream",
     "text": [
      "True\n",
      "1.0\n",
      "1\n",
      "1\n"
     ]
    }
   ],
   "source": [
    "a=1\n",
    "print(bool(a))\n",
    "print(float(a))\n",
    "print(int(a))\n",
    "print(str(a))"
   ]
  },
  {
   "cell_type": "code",
   "execution_count": 21,
   "metadata": {},
   "outputs": [
    {
     "name": "stdout",
     "output_type": "stream",
     "text": [
      "2 2.35 True 2.35\n"
     ]
    }
   ],
   "source": [
    "a=2.35\n",
    "print(int(a), float(a), bool(a), str(a))"
   ]
  },
  {
   "cell_type": "code",
   "execution_count": 22,
   "metadata": {},
   "outputs": [
    {
     "name": "stdout",
     "output_type": "stream",
     "text": [
      "3.0\n"
     ]
    }
   ],
   "source": [
    "a=3.56\n",
    "print(float(int(a)))"
   ]
  },
  {
   "cell_type": "code",
   "execution_count": 23,
   "metadata": {},
   "outputs": [
    {
     "name": "stdout",
     "output_type": "stream",
     "text": [
      "addition = 25\n",
      "Subtaction = 21\n",
      "multiplication = 46\n",
      "division = 11.5\n",
      "floor division = 11 reminder/modulus = 1 exponential = 529\n"
     ]
    }
   ],
   "source": [
    "#arithmatical operations\n",
    "a=23\n",
    "b=2\n",
    "print(\"addition =\",a+b) \n",
    "print(\"Subtaction =\",a-b)\n",
    "print(\"multiplication =\",a*b)\n",
    "print(\"division =\",a/b)\n",
    "print(\"floor division =\",a//b, \"reminder/modulus =\",a%b,\"exponential =\",a**b)"
   ]
  },
  {
   "cell_type": "code",
   "execution_count": 24,
   "metadata": {},
   "outputs": [
    {
     "name": "stdout",
     "output_type": "stream",
     "text": [
      "12\n",
      "A\n",
      "D\n",
      "H\n",
      "ABCD\n"
     ]
    }
   ],
   "source": [
    "name=\"ABCDEFGHIJKL\"\n",
    "print(len(name))\n",
    "print(name[0])\n",
    "print(name[3])\n",
    "print(name[-5])\n",
    "print(name[0:4])"
   ]
  },
  {
   "cell_type": "code",
   "execution_count": 25,
   "metadata": {},
   "outputs": [
    {
     "name": "stdout",
     "output_type": "stream",
     "text": [
      "S F H K\n",
      "SFHK "
     ]
    }
   ],
   "source": [
    "name=\"ASDFGHJKL\"\n",
    "print(name[1],name[3],name[5],name[7])\n",
    "print(name[1::2],end=' ')"
   ]
  },
  {
   "cell_type": "code",
   "execution_count": 26,
   "metadata": {},
   "outputs": [
    {
     "name": "stdout",
     "output_type": "stream",
     "text": [
      "full name: vijay dinanath chohan\n",
      "adress: mandw\n"
     ]
    }
   ],
   "source": [
    "name=\"naam vijay chohan, vijay dinanath chohan pura naam, gaav mandwa\"\n",
    "pura_naam= name[19:-23]\n",
    "gaav= name[-6:-1]\n",
    "print(f\"\"\"full name: {pura_naam}\n",
    "adress: {gaav}\"\"\")"
   ]
  },
  {
   "cell_type": "code",
   "execution_count": 27,
   "metadata": {},
   "outputs": [
    {
     "name": "stdout",
     "output_type": "stream",
     "text": [
      " dinanath chohan\n"
     ]
    }
   ],
   "source": [
    "name=\"naam vijay chohan, vijay dinanath chohan pura naam, gaav mandwa\"\n",
    "bpn= name[24:40]\n",
    "print(bpn)\n"
   ]
  },
  {
   "cell_type": "code",
   "execution_count": 29,
   "metadata": {},
   "outputs": [
    {
     "name": "stdout",
     "output_type": "stream",
     "text": [
      "5 girls\n",
      "3 boys\n"
     ]
    }
   ],
   "source": [
    "batch= \"5 girls and 3 boys are in a class\"\n",
    "girls= batch[ :7]\n",
    "boys= batch[12:-15]\n",
    "print (girls)\n",
    "print (boys)"
   ]
  },
  {
   "cell_type": "code",
   "execution_count": 30,
   "metadata": {},
   "outputs": [
    {
     "name": "stdout",
     "output_type": "stream",
     "text": [
      "True\n",
      "False\n",
      "False\n"
     ]
    }
   ],
   "source": [
    "statment=\"ram and sham are good frinds\"\n",
    "print(\"ram\" in statment)\n",
    "print(\"sham\" not in statment)\n",
    "print(\"david\" in statment)"
   ]
  },
  {
   "cell_type": "code",
   "execution_count": 31,
   "metadata": {},
   "outputs": [
    {
     "name": "stdout",
     "output_type": "stream",
     "text": [
      "ram and sham are good frinds ram and sham are good frinds \n"
     ]
    }
   ],
   "source": [
    "statment=\"ram and sham are good frinds \"\n",
    "print(statment*2)"
   ]
  },
  {
   "cell_type": "code",
   "execution_count": 32,
   "metadata": {},
   "outputs": [
    {
     "name": "stdout",
     "output_type": "stream",
     "text": [
      "RAM AND SHAM ARE GOOD FRINDS\n"
     ]
    }
   ],
   "source": [
    "statment=\"ram and sham are good frinds\"\n",
    "print(statment.upper())"
   ]
  },
  {
   "cell_type": "code",
   "execution_count": 33,
   "metadata": {},
   "outputs": [
    {
     "name": "stdout",
     "output_type": "stream",
     "text": [
      "ram and sham are good frinds\n"
     ]
    }
   ],
   "source": [
    "statment= \"RAM AND SHAM ARE GOOD FRINDS\"\n",
    "print(statment.lower())"
   ]
  },
  {
   "cell_type": "code",
   "execution_count": 37,
   "metadata": {},
   "outputs": [
    {
     "name": "stdout",
     "output_type": "stream",
     "text": [
      "    ram and sham are good frinds   \n",
      "RAM AND SHAM ARE GOOD FRINDS   \n",
      "    RAM AND SHAM ARE GOOD FRINDS\n",
      "RAM AND SHAM ARE GOOD FRINDS\n"
     ]
    }
   ],
   "source": [
    "x=\"    RAM AND SHAM ARE GOOD FRINDS   \"\n",
    "print(x.lower())\n",
    "print(x.lstrip())\n",
    "print(x.rstrip())\n",
    "print(x.strip())"
   ]
  },
  {
   "cell_type": "code",
   "execution_count": 38,
   "metadata": {},
   "outputs": [
    {
     "name": "stdout",
     "output_type": "stream",
     "text": [
      "4\n"
     ]
    }
   ],
   "source": [
    "increament=\"4%%%%\"\n",
    "print(increament.rstrip(\"%\"))"
   ]
  },
  {
   "cell_type": "code",
   "execution_count": 39,
   "metadata": {},
   "outputs": [
    {
     "name": "stdout",
     "output_type": "stream",
     "text": [
      "21654984\n"
     ]
    },
    {
     "data": {
      "text/plain": [
       "19"
      ]
     },
     "execution_count": 39,
     "metadata": {},
     "output_type": "execute_result"
    }
   ],
   "source": [
    "x= \"#####21654984******\"\n",
    "print(x.lstrip(\"#\").rstrip(\"*\"))\n",
    "len(x)"
   ]
  },
  {
   "cell_type": "code",
   "execution_count": 40,
   "metadata": {},
   "outputs": [
    {
     "name": "stdout",
     "output_type": "stream",
     "text": [
      "4\n",
      "2\n"
     ]
    }
   ],
   "source": [
    "z=\"ram and sham are good frinds\"\n",
    "print(z.count(\"a\"))\n",
    "print(z.count(\"a\",5))"
   ]
  },
  {
   "cell_type": "code",
   "execution_count": 2,
   "metadata": {},
   "outputs": [],
   "source": [
    "age= 30\n",
    "my_age= \"i am {0} years old\".format(age)"
   ]
  },
  {
   "cell_type": "code",
   "execution_count": 3,
   "metadata": {},
   "outputs": [
    {
     "data": {
      "text/plain": [
       "'i am 30 years old'"
      ]
     },
     "execution_count": 3,
     "metadata": {},
     "output_type": "execute_result"
    }
   ],
   "source": [
    "my_age"
   ]
  },
  {
   "cell_type": "code",
   "execution_count": 4,
   "metadata": {},
   "outputs": [
    {
     "data": {
      "text/plain": [
       "'i am 30 years old'"
      ]
     },
     "execution_count": 4,
     "metadata": {},
     "output_type": "execute_result"
    }
   ],
   "source": [
    "age = 25\n",
    "my_age"
   ]
  },
  {
   "cell_type": "code",
   "execution_count": 7,
   "metadata": {},
   "outputs": [
    {
     "name": "stdout",
     "output_type": "stream",
     "text": [
      "when frequency of the body and natural frequency matches, then resonance happeneds\n"
     ]
    }
   ],
   "source": [
    "A=\"when frequency of the body\"\n",
    "B=\"natural frequency matches\"\n",
    "C=\"then resonance happeneds\"\n",
    "print(\"{0} and {1}, {2}\".format(A,B,C))"
   ]
  },
  {
   "cell_type": "code",
   "execution_count": 8,
   "metadata": {},
   "outputs": [
    {
     "data": {
      "text/plain": [
       "'12355'"
      ]
     },
     "execution_count": 8,
     "metadata": {},
     "output_type": "execute_result"
    }
   ],
   "source": [
    "str(12355)"
   ]
  },
  {
   "cell_type": "code",
   "execution_count": 1,
   "metadata": {},
   "outputs": [
    {
     "name": "stdout",
     "output_type": "stream",
     "text": [
      "4\n"
     ]
    }
   ],
   "source": [
    "d=\"4%\"\n",
    "print(d.rstrip(\"%\"))"
   ]
  },
  {
   "cell_type": "code",
   "execution_count": null,
   "metadata": {},
   "outputs": [],
   "source": []
  }
 ],
 "metadata": {
  "kernelspec": {
   "display_name": "Python 3",
   "language": "python",
   "name": "python3"
  },
  "language_info": {
   "codemirror_mode": {
    "name": "ipython",
    "version": 3
   },
   "file_extension": ".py",
   "mimetype": "text/x-python",
   "name": "python",
   "nbconvert_exporter": "python",
   "pygments_lexer": "ipython3",
   "version": "3.8.5"
  }
 },
 "nbformat": 4,
 "nbformat_minor": 4
}
